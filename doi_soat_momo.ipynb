{
 "cells": [
  {
   "cell_type": "code",
   "execution_count": 66,
   "id": "b7c4cd41",
   "metadata": {},
   "outputs": [],
   "source": [
    "import os\n",
    "import pandas as pd \n",
    "import numpy as np"
   ]
  },
  {
   "cell_type": "code",
   "execution_count": 67,
   "id": "625a6abc",
   "metadata": {},
   "outputs": [
    {
     "name": "stdout",
     "output_type": "stream",
     "text": [
      "Loading file fimbageaslife1_D0013138_202212_DATA.xlsx...\n",
      "Loading file fimbageaslife_app_D0013140_202212_DATA.xlsx...\n",
      "Loading file fimbageaslife_D0013016_202212_DATA.xlsx...\n"
     ]
    }
   ],
   "source": [
    "momo_path = r'C:\\Users\\nguyendt\\Desktop\\Đối soát\\momo\\momo_data'\n",
    "df = []\n",
    "for i in os.listdir(momo_path):\n",
    "    if i.endswith('.xlsx'):\n",
    "        print('Loading file {0}...'.format(i))\n",
    "        df.append(pd.read_excel(os.path.join(momo_path,i), sheet_name = 'data'))\n",
    "\n",
    "df_momo = pd.DataFrame()\n",
    "for i in range(len(df)):\n",
    "    df_momo = pd.concat([df_momo, df[i]], axis = 0)\n",
    "\n",
    "cp_momo = df_momo[['MS.TransID', 'MS.Total Amount']]\n",
    "cp_momo = cp_momo.rename(columns={'MS.TransID': 'Transaction ID'})\n",
    "cp_momo = cp_momo.astype({'Transaction ID': str})"
   ]
  },
  {
   "cell_type": "code",
   "execution_count": 68,
   "id": "1b3459bf",
   "metadata": {
    "scrolled": true
   },
   "outputs": [],
   "source": [
    "log_path = r'C:\\Users\\nguyendt\\Desktop\\Đối soát\\momo\\momo_data\\log'\n",
    "a= []\n",
    "for i in os.listdir(log_path):\n",
    "    a.append(pd.read_excel(os.path.join(log_path,i), sheet_name = 'Sheet1'))\n",
    "df_log = pd.concat(a, axis = 0)\n",
    "\n",
    "df_log['Transaction ID'] = df_log['Transaction ID'].str[:11]\n",
    "cp_log = df_log[['Transaction ID', 'Paid amount']] "
   ]
  },
  {
   "cell_type": "code",
   "execution_count": 69,
   "id": "2913255b",
   "metadata": {},
   "outputs": [],
   "source": [
    "check = pd.merge(cp_log, cp_momo, on = 'Transaction ID', how = 'outer', indicator = True)\n",
    "check['paid_check'] = check['Paid amount'] - check['MS.Total Amount']\n",
    "not_both = check[check[\"_merge\"] != 'both']\n",
    "paid_check_failed = check[check[\"paid_check\"] != 0]"
   ]
  },
  {
   "cell_type": "code",
   "execution_count": 70,
   "id": "41cf8847",
   "metadata": {},
   "outputs": [
    {
     "data": {
      "text/html": [
       "<div>\n",
       "<style scoped>\n",
       "    .dataframe tbody tr th:only-of-type {\n",
       "        vertical-align: middle;\n",
       "    }\n",
       "\n",
       "    .dataframe tbody tr th {\n",
       "        vertical-align: top;\n",
       "    }\n",
       "\n",
       "    .dataframe thead th {\n",
       "        text-align: right;\n",
       "    }\n",
       "</style>\n",
       "<table border=\"1\" class=\"dataframe\">\n",
       "  <thead>\n",
       "    <tr style=\"text-align: right;\">\n",
       "      <th></th>\n",
       "      <th>Transaction ID</th>\n",
       "      <th>Paid amount</th>\n",
       "      <th>MS.Total Amount</th>\n",
       "      <th>_merge</th>\n",
       "      <th>paid_check</th>\n",
       "    </tr>\n",
       "  </thead>\n",
       "  <tbody>\n",
       "  </tbody>\n",
       "</table>\n",
       "</div>"
      ],
      "text/plain": [
       "Empty DataFrame\n",
       "Columns: [Transaction ID, Paid amount, MS.Total Amount, _merge, paid_check]\n",
       "Index: []"
      ]
     },
     "execution_count": 70,
     "metadata": {},
     "output_type": "execute_result"
    }
   ],
   "source": [
    "paid_check_failed"
   ]
  },
  {
   "cell_type": "code",
   "execution_count": 72,
   "id": "4e4e9dd1",
   "metadata": {},
   "outputs": [
    {
     "name": "stdout",
     "output_type": "stream",
     "text": [
      "Đối soát chuẩn\n",
      "----------\n",
      "D0013138\n",
      "Tổng giao dịch D0013138:  749366750\n",
      "Số lượng giao dịch D0013138:  66\n",
      "Phí dịch vụ D0013138:  4168413.7\n",
      "----------\n",
      "D0013140\n",
      "Tổng giao dịch D0013140:  1237280343\n",
      "Số lượng giao dịch D0013140:  195\n",
      "Phí dịch vụ D0013140:  8018033.5092\n",
      "----------\n",
      "D0013016\n",
      "Tổng giao dịch D0013016:  434328000\n",
      "Số lượng giao dịch D0013016:  33\n",
      "Phí dịch vụ D0013016:  2346643.2\n"
     ]
    }
   ],
   "source": [
    "result = None\n",
    "if len(not_both) == 0 and len(paid_check_failed) == 0:\n",
    "    result = 1\n",
    "    print('Đối soát chuẩn')\n",
    "    # print('Tổng giá trị giao dịch:', check['Paid amount'].sum())\n",
    "    # if len(check) < 5000:\n",
    "    #     print('Phí giao dịch:', 12000 * len(check) + check['Paid amount'].sum() * 0.004) \n",
    "    # elif len(check) >= 5000 and len(check) <= 10000:\n",
    "    #     print('Phí giao dịch:', 10000 * len(check) + check['Paid amount'].sum() * 0.004)\n",
    "    # elif len(check) > 10000:\n",
    "    #     print('Phí giao dịch:', 8000 * len(check) + check['Paid amount'].sum() * 0.004)    \n",
    "else: \n",
    "    result = 0\n",
    "    print('Đối soát sai', len(not_both), 'giao dịch')\n",
    "    print(not_both)\n",
    "\n",
    "print('----------')\n",
    "\n",
    "if result == 1:\n",
    "    for i in os.listdir(momo_path):\n",
    "        if i.__contains__('D0013138'):\n",
    "            a = pd.read_excel(os.path.join(momo_path,i), sheet_name = 'data')\n",
    "            a['fee'] = np.where(a['MS.Total Amount'] * 0.004 > 200000, 200000, a['MS.Total Amount'] * 0.004)\n",
    "            print('D0013138')\n",
    "            print('Tổng giao dịch D0013138: ', a['MS.Total Amount'].sum())\n",
    "            print('Số lượng giao dịch D0013138: ', len(a['MS.Total Amount']))\n",
    "            if len(a['MS.Total Amount']) < 5000:\n",
    "                print('Phí dịch vụ D0013138: ', (12000 * len(a['MS.Total Amount']) + a['fee'].sum()) * 1.1)\n",
    "            elif len(a['MS.Total Amount']) >= 5000 and len(a['MS.Total Amount']) <= 10000:\n",
    "                print('Phí dịch vụ D0013138: ', (10000 * len(a['MS.Total Amount']) + a['fee'].sum()) * 1.1)\n",
    "            elif len(a['MS.Total Amount']) > 10000:\n",
    "                print('Phí dịch vụ D0013138: ', (8000 * len(a['MS.Total Amount']) + a['fee'].sum()) * 1.1)\n",
    "            print('----------')\n",
    "        if i.__contains__('D0013140'):\n",
    "            a = pd.read_excel(os.path.join(momo_path,i), sheet_name = 'data')\n",
    "            a['fee'] = np.where(a['MS.Total Amount'] * 0.004 > 200000, 200000, a['MS.Total Amount'] * 0.004)\n",
    "            print('D0013140')\n",
    "            print('Tổng giao dịch D0013140: ', a['MS.Total Amount'].sum())\n",
    "            print('Số lượng giao dịch D0013140: ', len(a['MS.Total Amount']))\n",
    "            if len(a['MS.Total Amount']) < 5000:\n",
    "                print('Phí dịch vụ D0013140: ', (12000 * len(a['MS.Total Amount']) + a['fee'].sum()) * 1.1)\n",
    "            elif len(a['MS.Total Amount']) >= 5000 and len(a['MS.Total Amount']) <= 10000:\n",
    "                print('Phí dịch vụ D0013140: ', (10000 * len(a['MS.Total Amount']) + a['fee'].sum()) * 1.1)\n",
    "            elif len(a['MS.Total Amount']) > 10000:\n",
    "                print('Phí dịch vụ D0013140: ', (8000 * len(a['MS.Total Amount']) + a['fee'].sum()) * 1.1)\n",
    "            print('----------')\n",
    "        if i.__contains__('D0013016'):\n",
    "            a = pd.read_excel(os.path.join(momo_path,i), sheet_name = 'data')\n",
    "            a['fee'] = np.where(a['MS.Total Amount'] * 0.004 > 200000, 200000, a['MS.Total Amount'] * 0.004)\n",
    "            print('D0013016')\n",
    "            print('Tổng giao dịch D0013016: ', a['MS.Total Amount'].sum())\n",
    "            print('Số lượng giao dịch D0013016: ', len(a['MS.Total Amount']))\n",
    "            if len(a['MS.Total Amount']) < 5000:\n",
    "                print('Phí dịch vụ D0013016: ', (12000 * len(a['MS.Total Amount']) + a['fee'].sum()) * 1.1)\n",
    "            elif len(a['MS.Total Amount']) >= 5000 and len(a['MS.Total Amount']) <= 10000:\n",
    "                print('Phí dịch vụ D0013016: ', (10000 * len(a['MS.Total Amount']) + a['fee'].sum()) * 1.1)\n",
    "            elif len(a['MS.Total Amount']) > 10000:\n",
    "                print('Phí dịch vụ D0013016: ', (8000 * len(a['MS.Total Amount']) + a['fee'].sum()) * 1.1)\n",
    "else: \n",
    "    print('Nothing')"
   ]
  }
 ],
 "metadata": {
  "kernelspec": {
   "display_name": "Python 3",
   "language": "python",
   "name": "python3"
  },
  "language_info": {
   "codemirror_mode": {
    "name": "ipython",
    "version": 3
   },
   "file_extension": ".py",
   "mimetype": "text/x-python",
   "name": "python",
   "nbconvert_exporter": "python",
   "pygments_lexer": "ipython3",
   "version": "3.11.1"
  },
  "vscode": {
   "interpreter": {
    "hash": "67100ab4474f321ddd25821f4192055c996fb1734be21216d0264ce964104495"
   }
  }
 },
 "nbformat": 4,
 "nbformat_minor": 5
}
